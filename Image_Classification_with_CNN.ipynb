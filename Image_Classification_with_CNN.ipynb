{
  "nbformat": 4,
  "nbformat_minor": 0,
  "metadata": {
    "colab": {
      "provenance": []
    },
    "kernelspec": {
      "name": "python3",
      "display_name": "Python 3"
    },
    "language_info": {
      "name": "python"
    }
  },
  "cells": [
    {
      "cell_type": "code",
      "execution_count": 1,
      "metadata": {
        "id": "hPlxgJNhy56-"
      },
      "outputs": [],
      "source": [
        "#Image Classification Using Convolutional Neural Network (CNN)"
      ]
    },
    {
      "cell_type": "code",
      "source": [
        "import tensorflow as tf\n",
        "import numpy as np\n",
        "import pandas as pd\n",
        "import matplotlib.pyplot as plt\n",
        "from tensorflow import keras\n",
        "from tensorflow.keras import datasets,layers,models"
      ],
      "metadata": {
        "id": "QZSnyI9F0Ede"
      },
      "execution_count": 2,
      "outputs": []
    },
    {
      "cell_type": "code",
      "source": [
        "(a_train,b_train),(a_test,b_test)=datasets.cifar10.load_data()#load data sets"
      ],
      "metadata": {
        "id": "qurAKhOI0rIA"
      },
      "execution_count": 3,
      "outputs": []
    },
    {
      "cell_type": "code",
      "source": [
        "a_train.shape"
      ],
      "metadata": {
        "colab": {
          "base_uri": "https://localhost:8080/"
        },
        "id": "wKFvydGO1HU4",
        "outputId": "6da22455-c8cc-4740-8f35-878be33eca76"
      },
      "execution_count": 4,
      "outputs": [
        {
          "output_type": "execute_result",
          "data": {
            "text/plain": [
              "(50000, 32, 32, 3)"
            ]
          },
          "metadata": {},
          "execution_count": 4
        }
      ]
    },
    {
      "cell_type": "code",
      "source": [
        "a_test.shape"
      ],
      "metadata": {
        "colab": {
          "base_uri": "https://localhost:8080/"
        },
        "id": "njoutjgP1Kqn",
        "outputId": "dca06117-067d-4567-aa07-e4ac8e8a6a6f"
      },
      "execution_count": 5,
      "outputs": [
        {
          "output_type": "execute_result",
          "data": {
            "text/plain": [
              "(10000, 32, 32, 3)"
            ]
          },
          "metadata": {},
          "execution_count": 5
        }
      ]
    },
    {
      "cell_type": "code",
      "source": [
        "b_train.shape"
      ],
      "metadata": {
        "colab": {
          "base_uri": "https://localhost:8080/"
        },
        "id": "UTs8ZgH51UMG",
        "outputId": "996f9e94-d6fd-47ac-c79d-87b9d5db13fc"
      },
      "execution_count": 6,
      "outputs": [
        {
          "output_type": "execute_result",
          "data": {
            "text/plain": [
              "(50000, 1)"
            ]
          },
          "metadata": {},
          "execution_count": 6
        }
      ]
    },
    {
      "cell_type": "code",
      "source": [
        "b_test.shape"
      ],
      "metadata": {
        "colab": {
          "base_uri": "https://localhost:8080/"
        },
        "id": "ah-a9z0C1YD-",
        "outputId": "f713ecec-1c7b-4d39-a0d7-dddb8e5d07be"
      },
      "execution_count": 7,
      "outputs": [
        {
          "output_type": "execute_result",
          "data": {
            "text/plain": [
              "(10000, 1)"
            ]
          },
          "metadata": {},
          "execution_count": 7
        }
      ]
    },
    {
      "cell_type": "code",
      "source": [
        "b_train[0:5]"
      ],
      "metadata": {
        "colab": {
          "base_uri": "https://localhost:8080/"
        },
        "id": "Q7CgwJmR1gSC",
        "outputId": "07d73c00-932d-4ed5-cdd5-cfef66a7ab6a"
      },
      "execution_count": 8,
      "outputs": [
        {
          "output_type": "execute_result",
          "data": {
            "text/plain": [
              "array([[6],\n",
              "       [9],\n",
              "       [9],\n",
              "       [4],\n",
              "       [1]], dtype=uint8)"
            ]
          },
          "metadata": {},
          "execution_count": 8
        }
      ]
    },
    {
      "cell_type": "markdown",
      "source": [
        "b_train is in 2d array convet it to 1d"
      ],
      "metadata": {
        "id": "oDStVZDr10k_"
      }
    },
    {
      "cell_type": "code",
      "source": [
        "b_train=a_train.reshape(-1,)"
      ],
      "metadata": {
        "id": "6zmm5GS8166P"
      },
      "execution_count": 9,
      "outputs": []
    },
    {
      "cell_type": "code",
      "source": [
        "b_test=b_test.reshape(-1,)"
      ],
      "metadata": {
        "id": "Hk1fBKtf2SfR"
      },
      "execution_count": 10,
      "outputs": []
    },
    {
      "cell_type": "code",
      "source": [
        "a_train[0:5]"
      ],
      "metadata": {
        "colab": {
          "base_uri": "https://localhost:8080/"
        },
        "id": "P0LDyPz02rsq",
        "outputId": "f445124c-a4ea-438f-8b62-72c742225256"
      },
      "execution_count": 11,
      "outputs": [
        {
          "output_type": "execute_result",
          "data": {
            "text/plain": [
              "array([[[[ 59,  62,  63],\n",
              "         [ 43,  46,  45],\n",
              "         [ 50,  48,  43],\n",
              "         ...,\n",
              "         [158, 132, 108],\n",
              "         [152, 125, 102],\n",
              "         [148, 124, 103]],\n",
              "\n",
              "        [[ 16,  20,  20],\n",
              "         [  0,   0,   0],\n",
              "         [ 18,   8,   0],\n",
              "         ...,\n",
              "         [123,  88,  55],\n",
              "         [119,  83,  50],\n",
              "         [122,  87,  57]],\n",
              "\n",
              "        [[ 25,  24,  21],\n",
              "         [ 16,   7,   0],\n",
              "         [ 49,  27,   8],\n",
              "         ...,\n",
              "         [118,  84,  50],\n",
              "         [120,  84,  50],\n",
              "         [109,  73,  42]],\n",
              "\n",
              "        ...,\n",
              "\n",
              "        [[208, 170,  96],\n",
              "         [201, 153,  34],\n",
              "         [198, 161,  26],\n",
              "         ...,\n",
              "         [160, 133,  70],\n",
              "         [ 56,  31,   7],\n",
              "         [ 53,  34,  20]],\n",
              "\n",
              "        [[180, 139,  96],\n",
              "         [173, 123,  42],\n",
              "         [186, 144,  30],\n",
              "         ...,\n",
              "         [184, 148,  94],\n",
              "         [ 97,  62,  34],\n",
              "         [ 83,  53,  34]],\n",
              "\n",
              "        [[177, 144, 116],\n",
              "         [168, 129,  94],\n",
              "         [179, 142,  87],\n",
              "         ...,\n",
              "         [216, 184, 140],\n",
              "         [151, 118,  84],\n",
              "         [123,  92,  72]]],\n",
              "\n",
              "\n",
              "       [[[154, 177, 187],\n",
              "         [126, 137, 136],\n",
              "         [105, 104,  95],\n",
              "         ...,\n",
              "         [ 91,  95,  71],\n",
              "         [ 87,  90,  71],\n",
              "         [ 79,  81,  70]],\n",
              "\n",
              "        [[140, 160, 169],\n",
              "         [145, 153, 154],\n",
              "         [125, 125, 118],\n",
              "         ...,\n",
              "         [ 96,  99,  78],\n",
              "         [ 77,  80,  62],\n",
              "         [ 71,  73,  61]],\n",
              "\n",
              "        [[140, 155, 164],\n",
              "         [139, 146, 149],\n",
              "         [115, 115, 112],\n",
              "         ...,\n",
              "         [ 79,  82,  64],\n",
              "         [ 68,  70,  55],\n",
              "         [ 67,  69,  55]],\n",
              "\n",
              "        ...,\n",
              "\n",
              "        [[175, 167, 166],\n",
              "         [156, 154, 160],\n",
              "         [154, 160, 170],\n",
              "         ...,\n",
              "         [ 42,  34,  36],\n",
              "         [ 61,  53,  57],\n",
              "         [ 93,  83,  91]],\n",
              "\n",
              "        [[165, 154, 128],\n",
              "         [156, 152, 130],\n",
              "         [159, 161, 142],\n",
              "         ...,\n",
              "         [103,  93,  96],\n",
              "         [123, 114, 120],\n",
              "         [131, 121, 131]],\n",
              "\n",
              "        [[163, 148, 120],\n",
              "         [158, 148, 122],\n",
              "         [163, 156, 133],\n",
              "         ...,\n",
              "         [143, 133, 139],\n",
              "         [143, 134, 142],\n",
              "         [143, 133, 144]]],\n",
              "\n",
              "\n",
              "       [[[255, 255, 255],\n",
              "         [253, 253, 253],\n",
              "         [253, 253, 253],\n",
              "         ...,\n",
              "         [253, 253, 253],\n",
              "         [253, 253, 253],\n",
              "         [253, 253, 253]],\n",
              "\n",
              "        [[255, 255, 255],\n",
              "         [255, 255, 255],\n",
              "         [255, 255, 255],\n",
              "         ...,\n",
              "         [255, 255, 255],\n",
              "         [255, 255, 255],\n",
              "         [255, 255, 255]],\n",
              "\n",
              "        [[255, 255, 255],\n",
              "         [254, 254, 254],\n",
              "         [254, 254, 254],\n",
              "         ...,\n",
              "         [254, 254, 254],\n",
              "         [254, 254, 254],\n",
              "         [254, 254, 254]],\n",
              "\n",
              "        ...,\n",
              "\n",
              "        [[113, 120, 112],\n",
              "         [111, 118, 111],\n",
              "         [105, 112, 106],\n",
              "         ...,\n",
              "         [ 72,  81,  80],\n",
              "         [ 72,  80,  79],\n",
              "         [ 72,  80,  79]],\n",
              "\n",
              "        [[111, 118, 110],\n",
              "         [104, 111, 104],\n",
              "         [ 99, 106,  98],\n",
              "         ...,\n",
              "         [ 68,  75,  73],\n",
              "         [ 70,  76,  75],\n",
              "         [ 78,  84,  82]],\n",
              "\n",
              "        [[106, 113, 105],\n",
              "         [ 99, 106,  98],\n",
              "         [ 95, 102,  94],\n",
              "         ...,\n",
              "         [ 78,  85,  83],\n",
              "         [ 79,  85,  83],\n",
              "         [ 80,  86,  84]]],\n",
              "\n",
              "\n",
              "       [[[ 28,  25,  10],\n",
              "         [ 37,  34,  19],\n",
              "         [ 38,  35,  20],\n",
              "         ...,\n",
              "         [ 76,  67,  39],\n",
              "         [ 81,  72,  43],\n",
              "         [ 85,  76,  47]],\n",
              "\n",
              "        [[ 33,  28,  13],\n",
              "         [ 34,  30,  14],\n",
              "         [ 32,  27,  12],\n",
              "         ...,\n",
              "         [ 95,  82,  55],\n",
              "         [ 96,  82,  56],\n",
              "         [ 85,  72,  45]],\n",
              "\n",
              "        [[ 39,  32,  15],\n",
              "         [ 40,  33,  17],\n",
              "         [ 57,  50,  33],\n",
              "         ...,\n",
              "         [ 93,  76,  52],\n",
              "         [107,  89,  66],\n",
              "         [ 95,  77,  54]],\n",
              "\n",
              "        ...,\n",
              "\n",
              "        [[ 83,  73,  52],\n",
              "         [ 87,  77,  56],\n",
              "         [ 84,  74,  52],\n",
              "         ...,\n",
              "         [ 99,  93,  70],\n",
              "         [ 90,  84,  61],\n",
              "         [ 81,  75,  52]],\n",
              "\n",
              "        [[ 88,  72,  51],\n",
              "         [ 90,  74,  52],\n",
              "         [ 93,  77,  56],\n",
              "         ...,\n",
              "         [ 80,  74,  53],\n",
              "         [ 76,  70,  49],\n",
              "         [ 82,  76,  55]],\n",
              "\n",
              "        [[ 97,  78,  56],\n",
              "         [ 94,  75,  53],\n",
              "         [ 93,  75,  53],\n",
              "         ...,\n",
              "         [ 54,  47,  28],\n",
              "         [ 63,  56,  37],\n",
              "         [ 72,  65,  46]]],\n",
              "\n",
              "\n",
              "       [[[170, 180, 198],\n",
              "         [168, 178, 196],\n",
              "         [177, 185, 203],\n",
              "         ...,\n",
              "         [162, 179, 215],\n",
              "         [158, 178, 214],\n",
              "         [157, 177, 212]],\n",
              "\n",
              "        [[168, 181, 198],\n",
              "         [172, 185, 201],\n",
              "         [171, 183, 200],\n",
              "         ...,\n",
              "         [159, 177, 212],\n",
              "         [156, 176, 211],\n",
              "         [154, 174, 209]],\n",
              "\n",
              "        [[154, 170, 186],\n",
              "         [149, 165, 181],\n",
              "         [129, 144, 162],\n",
              "         ...,\n",
              "         [161, 178, 214],\n",
              "         [157, 177, 212],\n",
              "         [154, 174, 209]],\n",
              "\n",
              "        ...,\n",
              "\n",
              "        [[ 74,  84,  80],\n",
              "         [ 76,  85,  81],\n",
              "         [ 78,  85,  82],\n",
              "         ...,\n",
              "         [ 71,  75,  78],\n",
              "         [ 68,  72,  75],\n",
              "         [ 61,  65,  68]],\n",
              "\n",
              "        [[ 68,  76,  77],\n",
              "         [ 69,  77,  78],\n",
              "         [ 72,  79,  78],\n",
              "         ...,\n",
              "         [ 76,  80,  83],\n",
              "         [ 71,  75,  78],\n",
              "         [ 71,  75,  78]],\n",
              "\n",
              "        [[ 67,  75,  78],\n",
              "         [ 68,  76,  79],\n",
              "         [ 69,  75,  76],\n",
              "         ...,\n",
              "         [ 75,  79,  82],\n",
              "         [ 71,  75,  78],\n",
              "         [ 73,  77,  80]]]], dtype=uint8)"
            ]
          },
          "metadata": {},
          "execution_count": 11
        }
      ]
    },
    {
      "cell_type": "code",
      "source": [
        "b_train[0:5]"
      ],
      "metadata": {
        "colab": {
          "base_uri": "https://localhost:8080/"
        },
        "id": "u_0tP_YK2xrF",
        "outputId": "f20be55f-ea85-4869-bb2d-b93555432511"
      },
      "execution_count": 12,
      "outputs": [
        {
          "output_type": "execute_result",
          "data": {
            "text/plain": [
              "array([59, 62, 63, 43, 46], dtype=uint8)"
            ]
          },
          "metadata": {},
          "execution_count": 12
        }
      ]
    },
    {
      "cell_type": "code",
      "source": [
        "a_train = a_train / 255.0  # Normalize images to [0, 1]\n",
        "a_test = a_test / 255.0\n",
        "b_train = b_train.flatten()  # Shape: [50000]\n",
        "b_test = b_test.flatten()"
      ],
      "metadata": {
        "id": "g9Qcem03ESUf"
      },
      "execution_count": 13,
      "outputs": []
    },
    {
      "cell_type": "code",
      "source": [
        "classes = [\"airplane\",\"automobile\",\"bird\",\"cat\",\"deer\",\"dog\",\"frog\",\"horse\",\"ship\",\"truck\"]\n"
      ],
      "metadata": {
        "id": "BXuBRZiM25ta"
      },
      "execution_count": 14,
      "outputs": []
    },
    {
      "cell_type": "code",
      "source": [
        "def plot_samp(a, b, index):\n",
        "    plt.figure(figsize=(15,2))\n",
        "    plt.imshow(a[index])\n",
        "\n",
        "\n",
        "    plt.show()\n",
        "\n",
        ""
      ],
      "metadata": {
        "id": "hUF1CW862620"
      },
      "execution_count": 15,
      "outputs": []
    },
    {
      "cell_type": "code",
      "source": [
        "plot_samp(a_train,b_train, 1)"
      ],
      "metadata": {
        "colab": {
          "base_uri": "https://localhost:8080/",
          "height": 217
        },
        "id": "8Nu0xcQQ3d4x",
        "outputId": "847b2ef4-1f5d-4057-ea1b-dc7eed2cce3f"
      },
      "execution_count": 16,
      "outputs": [
        {
          "output_type": "display_data",
          "data": {
            "text/plain": [
              "<Figure size 1500x200 with 1 Axes>"
            ],
            "image/png": "[encoded data removed]"
          },
          "metadata": {}
        }
      ]
    },
    {
      "cell_type": "code",
      "source": [
        "classes[0]"
      ],
      "metadata": {
        "colab": {
          "base_uri": "https://localhost:8080/",
          "height": 36
        },
        "id": "yQ5HIwSt_b4W",
        "outputId": "3b4e4665-9097-407f-eee7-b5ef40d3ee66"
      },
      "execution_count": 17,
      "outputs": [
        {
          "output_type": "execute_result",
          "data": {
            "text/plain": [
              "'airplane'"
            ],
            "application/vnd.google.colaboratory.intrinsic+json": {
              "type": "string"
            }
          },
          "metadata": {},
          "execution_count": 17
        }
      ]
    },
    {
      "cell_type": "code",
      "source": [
        "plt.imshow(a_train[1])"
      ],
      "metadata": {
        "colab": {
          "base_uri": "https://localhost:8080/",
          "height": 447
        },
        "id": "RyWZ4NNU8d8K",
        "outputId": "c18b4574-48d3-47f9-8578-94094e2bf96e"
      },
      "execution_count": 18,
      "outputs": [
        {
          "output_type": "execute_result",
          "data": {
            "text/plain": [
              "<matplotlib.image.AxesImage at 0x7ae049da51d0>"
            ]
          },
          "metadata": {},
          "execution_count": 18
        },
        {
          "output_type": "display_data",
          "data": {
            "text/plain": [
              "<Figure size 640x480 with 1 Axes>"
            ],
            "image/png": "[encoded data removed]"
          },
          "metadata": {}
        }
      ]
    },
    {
      "cell_type": "code",
      "source": [],
      "metadata": {
        "id": "DqOFfjzEAFCe"
      },
      "execution_count": 18,
      "outputs": []
    },
    {
      "cell_type": "code",
      "source": [
        "b_train[1]"
      ],
      "metadata": {
        "colab": {
          "base_uri": "https://localhost:8080/"
        },
        "id": "WyVXmvwL-AFa",
        "outputId": "f01f6e36-a9b4-4342-8b31-a33fc7b60d2a"
      },
      "execution_count": 19,
      "outputs": [
        {
          "output_type": "execute_result",
          "data": {
            "text/plain": [
              "np.uint8(62)"
            ]
          },
          "metadata": {},
          "execution_count": 19
        }
      ]
    },
    {
      "cell_type": "code",
      "source": [
        "#model building"
      ],
      "metadata": {
        "id": "KOSh2NmzAF5d"
      },
      "execution_count": 20,
      "outputs": []
    },
    {
      "cell_type": "code",
      "source": [
        "cnn=models.Sequential([\n",
        "    layers.Conv2D(filters=32,kernel_size=(3,3),activation='relu',input_shape=(32,32,3)),\n",
        "    layers.MaxPooling2D((2,2)),\n",
        "    layers.Conv2D(filters=32,kernel_size=(3,3),activation='relu'),\n",
        "    layers.MaxPool2D((2,2)),\n",
        "    layers.Flatten(),\n",
        "    layers.Dense(64,activation='relu'),\n",
        "    layers.Dense(10,activation='softmax')\n",
        "\n",
        "])"
      ],
      "metadata": {
        "colab": {
          "base_uri": "https://localhost:8080/"
        },
        "id": "NID8ymDpAHwi",
        "outputId": "1de53f32-7d29-42ef-e11f-72856c40e851"
      },
      "execution_count": 21,
      "outputs": [
        {
          "output_type": "stream",
          "name": "stderr",
          "text": [
            "/usr/local/lib/python3.11/dist-packages/keras/src/layers/convolutional/base_conv.py:107: UserWarning: Do not pass an `input_shape`/`input_dim` argument to a layer. When using Sequential models, prefer using an `Input(shape)` object as the first layer in the model instead.\n",
            "  super().__init__(activity_regularizer=activity_regularizer, **kwargs)\n"
          ]
        }
      ]
    },
    {
      "cell_type": "code",
      "source": [
        "cnn.compile(optimizer='adam',loss='sparse_categorical_crossentropy',metrics=['accuracy'])"
      ],
      "metadata": {
        "id": "YjGxfVBzBlsi"
      },
      "execution_count": 27,
      "outputs": []
    },
    {
      "cell_type": "code",
      "source": [
        "#cnn.fit(a_train,b_train,epochs=10)"
      ],
      "metadata": {
        "id": "zKE6uAXyCdUk"
      },
      "execution_count": 30,
      "outputs": []
    },
    {
      "cell_type": "code",
      "source": [
        "b_pred=cnn.predict(a_test)"
      ],
      "metadata": {
        "colab": {
          "base_uri": "https://localhost:8080/"
        },
        "id": "oWxnxvf0DcTw",
        "outputId": "93dbd508-3743-4141-ba38-34bcf9fb0bcd"
      },
      "execution_count": 25,
      "outputs": [
        {
          "output_type": "stream",
          "name": "stdout",
          "text": [
            "\u001b[1m313/313\u001b[0m \u001b[32m━━━━━━━━━━━━━━━━━━━━\u001b[0m\u001b[37m\u001b[0m \u001b[1m4s\u001b[0m 14ms/step\n"
          ]
        }
      ]
    },
    {
      "cell_type": "code",
      "source": [
        "cnn.evaluate(a_test,b_test)"
      ],
      "metadata": {
        "colab": {
          "base_uri": "https://localhost:8080/"
        },
        "id": "sKqCW1diDkv5",
        "outputId": "17dfaedc-f35d-4318-e274-47f46b7928cf"
      },
      "execution_count": 29,
      "outputs": [
        {
          "output_type": "stream",
          "name": "stdout",
          "text": [
            "\u001b[1m313/313\u001b[0m \u001b[32m━━━━━━━━━━━━━━━━━━━━\u001b[0m\u001b[37m\u001b[0m \u001b[1m4s\u001b[0m 10ms/step - accuracy: 0.1034 - loss: 2.3143\n"
          ]
        },
        {
          "output_type": "execute_result",
          "data": {
            "text/plain": [
              "[2.3158116340637207, 0.10119999945163727]"
            ]
          },
          "metadata": {},
          "execution_count": 29
        }
      ]
    },
    {
      "cell_type": "code",
      "source": [
        "import matplotlib.pyplot as plt\n",
        "import numpy as np\n",
        "import cv2\n",
        "import os\n",
        "import PIL\n",
        "import tensorflow as tf\n",
        "\n",
        "from tensorflow import keras\n",
        "from tensorflow.keras import layers\n",
        "from tensorflow.keras.models import Sequential"
      ],
      "metadata": {
        "id": "qQEdShbxGL0z"
      },
      "execution_count": 32,
      "outputs": []
    },
    {
      "cell_type": "code",
      "source": [
        "'data_augmentation = keras.Sequential(\n",
        "  [\n",
        "    layers.experimental.preprocessing.RandomFlip(\"horizontal\",\n",
        "                                                 input_shape=(img_height,\n",
        "                                                              img_width,\n",
        "                                                              3)),\n",
        "    layers.experimental.preprocessing.RandomRotation(0.1),\n",
        "    layers.experimental.preprocessing.RandomZoom(0.1),\n",
        "  ]\n",
        ")''"
      ],
      "metadata": {
        "colab": {
          "base_uri": "https://localhost:8080/",
          "height": 106
        },
        "id": "kfivw8Q2GFWw",
        "outputId": "afc4f523-2937-46ef-ab2c-ee3b1bfbe3c9"
      },
      "execution_count": 34,
      "outputs": [
        {
          "output_type": "error",
          "ename": "SyntaxError",
          "evalue": "unterminated string literal (detected at line 1) (<ipython-input-34-79226bc7a705>, line 1)",
          "traceback": [
            "\u001b[0;36m  File \u001b[0;32m\"<ipython-input-34-79226bc7a705>\"\u001b[0;36m, line \u001b[0;32m1\u001b[0m\n\u001b[0;31m    'data_augmentation = keras.Sequential(\u001b[0m\n\u001b[0m    ^\u001b[0m\n\u001b[0;31mSyntaxError\u001b[0m\u001b[0;31m:\u001b[0m unterminated string literal (detected at line 1)\n"
          ]
        }
      ]
    },
    {
      "cell_type": "code",
      "source": [
        "cnn = models.Sequential([\n",
        "    data_augmentation,\n",
        "    layers.Conv2D(32, (3,3), activation='relu'),\n",
        "    layers.MaxPooling2D((2,2)),\n",
        "    layers.Conv2D(32, (3,3), activation='relu'),\n",
        "    layers.MaxPooling2D((2,2)),\n",
        "    layers.Flatten(),\n",
        "    layers.Dense(64, activation='relu'),\n",
        "    layers.Dropout(0.5),  # Add dropout to prevent overfitting\n",
        "    layers.Dense(10, activation='softmax')\n",
        "])\n",
        "\n",
        "# Compile and train\n",
        "cnn.compile(optimizer=keras.optimizers.Adam(clipnorm=1.0),\n",
        "            loss='sparse_categorical_crossentropy',\n",
        "            metrics=['accuracy', layers.Precision(), layers.Recall()])\n",
        "cnn.fit(a_train, b_train, epochs=20)"
      ],
      "metadata": {
        "id": "l-2QgklEHL0r"
      },
      "execution_count": null,
      "outputs": []
    },
    {
      "cell_type": "markdown",
      "source": [
        "fit model"
      ],
      "metadata": {
        "id": "oe7N8kArCDVG"
      }
    }
  ]
}