{
  "nbformat": 4,
  "nbformat_minor": 0,
  "metadata": {
    "colab": {
      "provenance": []
    },
    "kernelspec": {
      "name": "python3",
      "display_name": "Python 3"
    },
    "language_info": {
      "name": "python"
    }
  },
  "cells": [
    {
      "cell_type": "code",
      "execution_count": null,
      "metadata": {
        "id": "hPlxgJNhy56-"
      },
      "outputs": [],
      "source": [
        "#Image Classification Using Convolutional Neural Network (CNN)"
      ]
    },
    {
      "cell_type": "code",
      "source": [
        "import tensorflow as tf\n",
        "import numpy as np\n",
        "import pandas as pd\n",
        "import matplotlib.pyplot as plt\n",
        "from tensorflow import keras\n",
        "from tensorflow.keras import datasets,layers,models"
      ],
      "metadata": {
        "id": "QZSnyI9F0Ede"
      },
      "execution_count": 60,
      "outputs": []
    },
    {
      "cell_type": "code",
      "source": [
        "(X_train,y_train),(X_test,y_test)=datasets.cifar10.load_data()#load data sets"
      ],
      "metadata": {
        "id": "qurAKhOI0rIA"
      },
      "execution_count": 59,
      "outputs": []
    },
    {
      "cell_type": "code",
      "source": [
        "X_train.shape"
      ],
      "metadata": {
        "colab": {
          "base_uri": "https://localhost:8080/"
        },
        "id": "wKFvydGO1HU4",
        "outputId": "7a5b3db0-6022-4e80-9a0a-b481b2c93674"
      },
      "execution_count": 62,
      "outputs": [
        {
          "output_type": "execute_result",
          "data": {
            "text/plain": [
              "(50000, 32, 32, 3)"
            ]
          },
          "metadata": {},
          "execution_count": 62
        }
      ]
    },
    {
      "cell_type": "code",
      "source": [
        "X_test.shape"
      ],
      "metadata": {
        "colab": {
          "base_uri": "https://localhost:8080/"
        },
        "id": "njoutjgP1Kqn",
        "outputId": "0db47c3b-479f-48e4-e4dd-150216615775"
      },
      "execution_count": 63,
      "outputs": [
        {
          "output_type": "execute_result",
          "data": {
            "text/plain": [
              "(10000, 32, 32, 3)"
            ]
          },
          "metadata": {},
          "execution_count": 63
        }
      ]
    },
    {
      "cell_type": "code",
      "source": [
        "y_train.shape"
      ],
      "metadata": {
        "colab": {
          "base_uri": "https://localhost:8080/"
        },
        "id": "UTs8ZgH51UMG",
        "outputId": "cbdbc418-14f7-4586-da91-e40b523721ea"
      },
      "execution_count": 64,
      "outputs": [
        {
          "output_type": "execute_result",
          "data": {
            "text/plain": [
              "(50000, 1)"
            ]
          },
          "metadata": {},
          "execution_count": 64
        }
      ]
    },
    {
      "cell_type": "code",
      "source": [
        "y_test.shape"
      ],
      "metadata": {
        "colab": {
          "base_uri": "https://localhost:8080/"
        },
        "id": "ah-a9z0C1YD-",
        "outputId": "e9665bed-8823-4f53-89e2-a96e51495a6d"
      },
      "execution_count": 65,
      "outputs": [
        {
          "output_type": "execute_result",
          "data": {
            "text/plain": [
              "(10000, 1)"
            ]
          },
          "metadata": {},
          "execution_count": 65
        }
      ]
    },
    {
      "cell_type": "code",
      "source": [
        "X_train[0:5]"
      ],
      "metadata": {
        "colab": {
          "base_uri": "https://localhost:8080/"
        },
        "id": "Q7CgwJmR1gSC",
        "outputId": "bf0e13e8-d1fd-4111-8355-00e2eb193581"
      },
      "execution_count": 66,
      "outputs": [
        {
          "output_type": "execute_result",
          "data": {
            "text/plain": [
              "array([[[[ 59,  62,  63],\n",
              "         [ 43,  46,  45],\n",
              "         [ 50,  48,  43],\n",
              "         ...,\n",
              "         [158, 132, 108],\n",
              "         [152, 125, 102],\n",
              "         [148, 124, 103]],\n",
              "\n",
              "        [[ 16,  20,  20],\n",
              "         [  0,   0,   0],\n",
              "         [ 18,   8,   0],\n",
              "         ...,\n",
              "         [123,  88,  55],\n",
              "         [119,  83,  50],\n",
              "         [122,  87,  57]],\n",
              "\n",
              "        [[ 25,  24,  21],\n",
              "         [ 16,   7,   0],\n",
              "         [ 49,  27,   8],\n",
              "         ...,\n",
              "         [118,  84,  50],\n",
              "         [120,  84,  50],\n",
              "         [109,  73,  42]],\n",
              "\n",
              "        ...,\n",
              "\n",
              "        [[208, 170,  96],\n",
              "         [201, 153,  34],\n",
              "         [198, 161,  26],\n",
              "         ...,\n",
              "         [160, 133,  70],\n",
              "         [ 56,  31,   7],\n",
              "         [ 53,  34,  20]],\n",
              "\n",
              "        [[180, 139,  96],\n",
              "         [173, 123,  42],\n",
              "         [186, 144,  30],\n",
              "         ...,\n",
              "         [184, 148,  94],\n",
              "         [ 97,  62,  34],\n",
              "         [ 83,  53,  34]],\n",
              "\n",
              "        [[177, 144, 116],\n",
              "         [168, 129,  94],\n",
              "         [179, 142,  87],\n",
              "         ...,\n",
              "         [216, 184, 140],\n",
              "         [151, 118,  84],\n",
              "         [123,  92,  72]]],\n",
              "\n",
              "\n",
              "       [[[154, 177, 187],\n",
              "         [126, 137, 136],\n",
              "         [105, 104,  95],\n",
              "         ...,\n",
              "         [ 91,  95,  71],\n",
              "         [ 87,  90,  71],\n",
              "         [ 79,  81,  70]],\n",
              "\n",
              "        [[140, 160, 169],\n",
              "         [145, 153, 154],\n",
              "         [125, 125, 118],\n",
              "         ...,\n",
              "         [ 96,  99,  78],\n",
              "         [ 77,  80,  62],\n",
              "         [ 71,  73,  61]],\n",
              "\n",
              "        [[140, 155, 164],\n",
              "         [139, 146, 149],\n",
              "         [115, 115, 112],\n",
              "         ...,\n",
              "         [ 79,  82,  64],\n",
              "         [ 68,  70,  55],\n",
              "         [ 67,  69,  55]],\n",
              "\n",
              "        ...,\n",
              "\n",
              "        [[175, 167, 166],\n",
              "         [156, 154, 160],\n",
              "         [154, 160, 170],\n",
              "         ...,\n",
              "         [ 42,  34,  36],\n",
              "         [ 61,  53,  57],\n",
              "         [ 93,  83,  91]],\n",
              "\n",
              "        [[165, 154, 128],\n",
              "         [156, 152, 130],\n",
              "         [159, 161, 142],\n",
              "         ...,\n",
              "         [103,  93,  96],\n",
              "         [123, 114, 120],\n",
              "         [131, 121, 131]],\n",
              "\n",
              "        [[163, 148, 120],\n",
              "         [158, 148, 122],\n",
              "         [163, 156, 133],\n",
              "         ...,\n",
              "         [143, 133, 139],\n",
              "         [143, 134, 142],\n",
              "         [143, 133, 144]]],\n",
              "\n",
              "\n",
              "       [[[255, 255, 255],\n",
              "         [253, 253, 253],\n",
              "         [253, 253, 253],\n",
              "         ...,\n",
              "         [253, 253, 253],\n",
              "         [253, 253, 253],\n",
              "         [253, 253, 253]],\n",
              "\n",
              "        [[255, 255, 255],\n",
              "         [255, 255, 255],\n",
              "         [255, 255, 255],\n",
              "         ...,\n",
              "         [255, 255, 255],\n",
              "         [255, 255, 255],\n",
              "         [255, 255, 255]],\n",
              "\n",
              "        [[255, 255, 255],\n",
              "         [254, 254, 254],\n",
              "         [254, 254, 254],\n",
              "         ...,\n",
              "         [254, 254, 254],\n",
              "         [254, 254, 254],\n",
              "         [254, 254, 254]],\n",
              "\n",
              "        ...,\n",
              "\n",
              "        [[113, 120, 112],\n",
              "         [111, 118, 111],\n",
              "         [105, 112, 106],\n",
              "         ...,\n",
              "         [ 72,  81,  80],\n",
              "         [ 72,  80,  79],\n",
              "         [ 72,  80,  79]],\n",
              "\n",
              "        [[111, 118, 110],\n",
              "         [104, 111, 104],\n",
              "         [ 99, 106,  98],\n",
              "         ...,\n",
              "         [ 68,  75,  73],\n",
              "         [ 70,  76,  75],\n",
              "         [ 78,  84,  82]],\n",
              "\n",
              "        [[106, 113, 105],\n",
              "         [ 99, 106,  98],\n",
              "         [ 95, 102,  94],\n",
              "         ...,\n",
              "         [ 78,  85,  83],\n",
              "         [ 79,  85,  83],\n",
              "         [ 80,  86,  84]]],\n",
              "\n",
              "\n",
              "       [[[ 28,  25,  10],\n",
              "         [ 37,  34,  19],\n",
              "         [ 38,  35,  20],\n",
              "         ...,\n",
              "         [ 76,  67,  39],\n",
              "         [ 81,  72,  43],\n",
              "         [ 85,  76,  47]],\n",
              "\n",
              "        [[ 33,  28,  13],\n",
              "         [ 34,  30,  14],\n",
              "         [ 32,  27,  12],\n",
              "         ...,\n",
              "         [ 95,  82,  55],\n",
              "         [ 96,  82,  56],\n",
              "         [ 85,  72,  45]],\n",
              "\n",
              "        [[ 39,  32,  15],\n",
              "         [ 40,  33,  17],\n",
              "         [ 57,  50,  33],\n",
              "         ...,\n",
              "         [ 93,  76,  52],\n",
              "         [107,  89,  66],\n",
              "         [ 95,  77,  54]],\n",
              "\n",
              "        ...,\n",
              "\n",
              "        [[ 83,  73,  52],\n",
              "         [ 87,  77,  56],\n",
              "         [ 84,  74,  52],\n",
              "         ...,\n",
              "         [ 99,  93,  70],\n",
              "         [ 90,  84,  61],\n",
              "         [ 81,  75,  52]],\n",
              "\n",
              "        [[ 88,  72,  51],\n",
              "         [ 90,  74,  52],\n",
              "         [ 93,  77,  56],\n",
              "         ...,\n",
              "         [ 80,  74,  53],\n",
              "         [ 76,  70,  49],\n",
              "         [ 82,  76,  55]],\n",
              "\n",
              "        [[ 97,  78,  56],\n",
              "         [ 94,  75,  53],\n",
              "         [ 93,  75,  53],\n",
              "         ...,\n",
              "         [ 54,  47,  28],\n",
              "         [ 63,  56,  37],\n",
              "         [ 72,  65,  46]]],\n",
              "\n",
              "\n",
              "       [[[170, 180, 198],\n",
              "         [168, 178, 196],\n",
              "         [177, 185, 203],\n",
              "         ...,\n",
              "         [162, 179, 215],\n",
              "         [158, 178, 214],\n",
              "         [157, 177, 212]],\n",
              "\n",
              "        [[168, 181, 198],\n",
              "         [172, 185, 201],\n",
              "         [171, 183, 200],\n",
              "         ...,\n",
              "         [159, 177, 212],\n",
              "         [156, 176, 211],\n",
              "         [154, 174, 209]],\n",
              "\n",
              "        [[154, 170, 186],\n",
              "         [149, 165, 181],\n",
              "         [129, 144, 162],\n",
              "         ...,\n",
              "         [161, 178, 214],\n",
              "         [157, 177, 212],\n",
              "         [154, 174, 209]],\n",
              "\n",
              "        ...,\n",
              "\n",
              "        [[ 74,  84,  80],\n",
              "         [ 76,  85,  81],\n",
              "         [ 78,  85,  82],\n",
              "         ...,\n",
              "         [ 71,  75,  78],\n",
              "         [ 68,  72,  75],\n",
              "         [ 61,  65,  68]],\n",
              "\n",
              "        [[ 68,  76,  77],\n",
              "         [ 69,  77,  78],\n",
              "         [ 72,  79,  78],\n",
              "         ...,\n",
              "         [ 76,  80,  83],\n",
              "         [ 71,  75,  78],\n",
              "         [ 71,  75,  78]],\n",
              "\n",
              "        [[ 67,  75,  78],\n",
              "         [ 68,  76,  79],\n",
              "         [ 69,  75,  76],\n",
              "         ...,\n",
              "         [ 75,  79,  82],\n",
              "         [ 71,  75,  78],\n",
              "         [ 73,  77,  80]]]], dtype=uint8)"
            ]
          },
          "metadata": {},
          "execution_count": 66
        }
      ]
    },
    {
      "cell_type": "markdown",
      "source": [
        "b_train is in 2d array convet it to 1d"
      ],
      "metadata": {
        "id": "oDStVZDr10k_"
      }
    },
    {
      "cell_type": "code",
      "source": [
        "y_train=y_train.reshape(-1,)"
      ],
      "metadata": {
        "id": "6zmm5GS8166P"
      },
      "execution_count": 67,
      "outputs": []
    },
    {
      "cell_type": "code",
      "source": [
        "y_test=y_test.reshape(-1,)"
      ],
      "metadata": {
        "id": "Hk1fBKtf2SfR"
      },
      "execution_count": 68,
      "outputs": []
    },
    {
      "cell_type": "code",
      "source": [
        "y_train[0:5]"
      ],
      "metadata": {
        "colab": {
          "base_uri": "https://localhost:8080/"
        },
        "id": "P0LDyPz02rsq",
        "outputId": "3b1e3309-03a1-498e-bca2-3b96af10c93a"
      },
      "execution_count": 69,
      "outputs": [
        {
          "output_type": "execute_result",
          "data": {
            "text/plain": [
              "array([6, 9, 9, 4, 1], dtype=uint8)"
            ]
          },
          "metadata": {},
          "execution_count": 69
        }
      ]
    },
    {
      "cell_type": "code",
      "source": [
        "y_train[0:5]"
      ],
      "metadata": {
        "colab": {
          "base_uri": "https://localhost:8080/"
        },
        "id": "u_0tP_YK2xrF",
        "outputId": "ec52182b-33f0-488d-ae44-579e04d6e031"
      },
      "execution_count": 70,
      "outputs": [
        {
          "output_type": "execute_result",
          "data": {
            "text/plain": [
              "array([6, 9, 9, 4, 1], dtype=uint8)"
            ]
          },
          "metadata": {},
          "execution_count": 70
        }
      ]
    },
    {
      "cell_type": "code",
      "source": [],
      "metadata": {
        "id": "g9Qcem03ESUf"
      },
      "execution_count": null,
      "outputs": []
    },
    {
      "cell_type": "code",
      "source": [
        "classes = [\"airplane\",\"automobile\",\"bird\",\"cat\",\"deer\",\"dog\",\"frog\",\"horse\",\"ship\",\"truck\"]\n"
      ],
      "metadata": {
        "id": "BXuBRZiM25ta"
      },
      "execution_count": 71,
      "outputs": []
    },
    {
      "cell_type": "code",
      "source": [
        "def plot_samp(a, b, index):\n",
        "    plt.figure(figsize=(15,2))\n",
        "    plt.imshow(a[index])\n",
        "    plt.xlabel(classes[b[index]])\n",
        "\n",
        "\n",
        "\n",
        "\n",
        "    plt.show()\n",
        "\n"
      ],
      "metadata": {
        "id": "hUF1CW862620"
      },
      "execution_count": 91,
      "outputs": []
    },
    {
      "cell_type": "code",
      "source": [
        "plot_samp(X_train,y_train, 1)"
      ],
      "metadata": {
        "colab": {
          "base_uri": "https://localhost:8080/",
          "height": 237
        },
        "id": "8Nu0xcQQ3d4x",
        "outputId": "fec0dcfc-6b8c-4d97-cad3-8149ddc7a619"
      },
      "execution_count": 92,
      "outputs": [
        {
          "output_type": "display_data",
          "data": {
            "text/plain": [
              "<Figure size 1500x200 with 1 Axes>"
            ],
            "image/png": "[encoded data removed]"
          },
          "metadata": {}
        }
      ]
    },
    {
      "cell_type": "code",
      "source": [
        "classes[0]"
      ],
      "metadata": {
        "colab": {
          "base_uri": "https://localhost:8080/",
          "height": 36
        },
        "id": "yQ5HIwSt_b4W",
        "outputId": "ca00d57f-3db0-4491-a99a-cbe8679bac86"
      },
      "execution_count": 74,
      "outputs": [
        {
          "output_type": "execute_result",
          "data": {
            "text/plain": [
              "'airplane'"
            ],
            "application/vnd.google.colaboratory.intrinsic+json": {
              "type": "string"
            }
          },
          "metadata": {},
          "execution_count": 74
        }
      ]
    },
    {
      "cell_type": "code",
      "source": [
        "plt.imshow(X_train[1])"
      ],
      "metadata": {
        "colab": {
          "base_uri": "https://localhost:8080/",
          "height": 447
        },
        "id": "RyWZ4NNU8d8K",
        "outputId": "3198421f-f5b9-447c-910e-c11b38803e1d"
      },
      "execution_count": 75,
      "outputs": [
        {
          "output_type": "execute_result",
          "data": {
            "text/plain": [
              "<matplotlib.image.AxesImage at 0x7adfcbd4a710>"
            ]
          },
          "metadata": {},
          "execution_count": 75
        },
        {
          "output_type": "display_data",
          "data": {
            "text/plain": [
              "<Figure size 640x480 with 1 Axes>"
            ],
            "image/png": "[encoded data removed]"
          },
          "metadata": {}
        }
      ]
    },
    {
      "cell_type": "code",
      "source": [],
      "metadata": {
        "id": "DqOFfjzEAFCe"
      },
      "execution_count": null,
      "outputs": []
    },
    {
      "cell_type": "code",
      "source": [
        "y_train[1]"
      ],
      "metadata": {
        "colab": {
          "base_uri": "https://localhost:8080/"
        },
        "id": "WyVXmvwL-AFa",
        "outputId": "ba517a09-cd76-45e6-b518-226f55dec074"
      },
      "execution_count": 76,
      "outputs": [
        {
          "output_type": "execute_result",
          "data": {
            "text/plain": [
              "np.uint8(9)"
            ]
          },
          "metadata": {},
          "execution_count": 76
        }
      ]
    },
    {
      "cell_type": "code",
      "source": [
        "#model building"
      ],
      "metadata": {
        "id": "KOSh2NmzAF5d"
      },
      "execution_count": null,
      "outputs": []
    },
    {
      "cell_type": "code",
      "source": [
        "cnn=models.Sequential([\n",
        "    layers.Conv2D(filters=32,kernel_size=(3,3),activation='relu',input_shape=(32,32,3)),\n",
        "    layers.MaxPooling2D((2,2)),\n",
        "    layers.Conv2D(filters=32,kernel_size=(3,3),activation='relu'),\n",
        "    layers.MaxPool2D((2,2)),\n",
        "    layers.Flatten(),\n",
        "    layers.Dense(64,activation='relu'),\n",
        "    layers.Dense(10,activation='softmax')\n",
        "\n",
        "])"
      ],
      "metadata": {
        "colab": {
          "base_uri": "https://localhost:8080/"
        },
        "id": "NID8ymDpAHwi",
        "outputId": "4b796a40-5e82-4bee-e71f-263ae2be44b4"
      },
      "execution_count": 77,
      "outputs": [
        {
          "output_type": "stream",
          "name": "stderr",
          "text": [
            "/usr/local/lib/python3.11/dist-packages/keras/src/layers/convolutional/base_conv.py:107: UserWarning: Do not pass an `input_shape`/`input_dim` argument to a layer. When using Sequential models, prefer using an `Input(shape)` object as the first layer in the model instead.\n",
            "  super().__init__(activity_regularizer=activity_regularizer, **kwargs)\n"
          ]
        }
      ]
    },
    {
      "cell_type": "code",
      "source": [
        "cnn.compile(optimizer='adam',loss='sparse_categorical_crossentropy',metrics=['accuracy'])"
      ],
      "metadata": {
        "id": "YjGxfVBzBlsi"
      },
      "execution_count": 78,
      "outputs": []
    },
    {
      "cell_type": "code",
      "source": [
        "cnn.fit(X_train,y_train,epochs=10)"
      ],
      "metadata": {
        "id": "zKE6uAXyCdUk",
        "colab": {
          "base_uri": "https://localhost:8080/"
        },
        "outputId": "d019aca7-9482-4059-869c-e26ad131e7d3"
      },
      "execution_count": 79,
      "outputs": [
        {
          "output_type": "stream",
          "name": "stdout",
          "text": [
            "Epoch 1/10\n",
            "\u001b[1m1563/1563\u001b[0m \u001b[32m━━━━━━━━━━━━━━━━━━━━\u001b[0m\u001b[37m\u001b[0m \u001b[1m56s\u001b[0m 35ms/step - accuracy: 0.2387 - loss: 3.0919\n",
            "Epoch 2/10\n",
            "\u001b[1m1563/1563\u001b[0m \u001b[32m━━━━━━━━━━━━━━━━━━━━\u001b[0m\u001b[37m\u001b[0m \u001b[1m81s\u001b[0m 34ms/step - accuracy: 0.4751 - loss: 1.4478\n",
            "Epoch 3/10\n",
            "\u001b[1m1563/1563\u001b[0m \u001b[32m━━━━━━━━━━━━━━━━━━━━\u001b[0m\u001b[37m\u001b[0m \u001b[1m82s\u001b[0m 34ms/step - accuracy: 0.5537 - loss: 1.2632\n",
            "Epoch 4/10\n",
            "\u001b[1m1563/1563\u001b[0m \u001b[32m━━━━━━━━━━━━━━━━━━━━\u001b[0m\u001b[37m\u001b[0m \u001b[1m83s\u001b[0m 35ms/step - accuracy: 0.5968 - loss: 1.1477\n",
            "Epoch 5/10\n",
            "\u001b[1m1563/1563\u001b[0m \u001b[32m━━━━━━━━━━━━━━━━━━━━\u001b[0m\u001b[37m\u001b[0m \u001b[1m82s\u001b[0m 35ms/step - accuracy: 0.6286 - loss: 1.0624\n",
            "Epoch 6/10\n",
            "\u001b[1m1563/1563\u001b[0m \u001b[32m━━━━━━━━━━━━━━━━━━━━\u001b[0m\u001b[37m\u001b[0m \u001b[1m81s\u001b[0m 35ms/step - accuracy: 0.6536 - loss: 0.9868\n",
            "Epoch 7/10\n",
            "\u001b[1m1563/1563\u001b[0m \u001b[32m━━━━━━━━━━━━━━━━━━━━\u001b[0m\u001b[37m\u001b[0m \u001b[1m82s\u001b[0m 35ms/step - accuracy: 0.6842 - loss: 0.9109\n",
            "Epoch 8/10\n",
            "\u001b[1m1563/1563\u001b[0m \u001b[32m━━━━━━━━━━━━━━━━━━━━\u001b[0m\u001b[37m\u001b[0m \u001b[1m79s\u001b[0m 33ms/step - accuracy: 0.6983 - loss: 0.8601\n",
            "Epoch 9/10\n",
            "\u001b[1m1563/1563\u001b[0m \u001b[32m━━━━━━━━━━━━━━━━━━━━\u001b[0m\u001b[37m\u001b[0m \u001b[1m53s\u001b[0m 34ms/step - accuracy: 0.7152 - loss: 0.8153\n",
            "Epoch 10/10\n",
            "\u001b[1m1563/1563\u001b[0m \u001b[32m━━━━━━━━━━━━━━━━━━━━\u001b[0m\u001b[37m\u001b[0m \u001b[1m53s\u001b[0m 34ms/step - accuracy: 0.7259 - loss: 0.7746\n"
          ]
        },
        {
          "output_type": "execute_result",
          "data": {
            "text/plain": [
              "<keras.src.callbacks.history.History at 0x7ae0374836d0>"
            ]
          },
          "metadata": {},
          "execution_count": 79
        }
      ]
    },
    {
      "cell_type": "code",
      "source": [
        "y_pred=cnn.predict(X_test)"
      ],
      "metadata": {
        "colab": {
          "base_uri": "https://localhost:8080/"
        },
        "id": "oWxnxvf0DcTw",
        "outputId": "c80c4aba-76ff-4a17-c05b-979c6d6aa96c"
      },
      "execution_count": 80,
      "outputs": [
        {
          "output_type": "stream",
          "name": "stdout",
          "text": [
            "\u001b[1m313/313\u001b[0m \u001b[32m━━━━━━━━━━━━━━━━━━━━\u001b[0m\u001b[37m\u001b[0m \u001b[1m3s\u001b[0m 9ms/step\n"
          ]
        }
      ]
    },
    {
      "cell_type": "code",
      "source": [
        "cnn.evaluate(X_test,y_test)"
      ],
      "metadata": {
        "colab": {
          "base_uri": "https://localhost:8080/"
        },
        "id": "sKqCW1diDkv5",
        "outputId": "863d9ccf-52dc-459a-ee17-1d86f542dadf"
      },
      "execution_count": 88,
      "outputs": [
        {
          "output_type": "stream",
          "name": "stdout",
          "text": [
            "\u001b[1m313/313\u001b[0m \u001b[32m━━━━━━━━━━━━━━━━━━━━\u001b[0m\u001b[37m\u001b[0m \u001b[1m5s\u001b[0m 14ms/step - accuracy: 0.6353 - loss: 1.1342\n"
          ]
        },
        {
          "output_type": "execute_result",
          "data": {
            "text/plain": [
              "[1.1417961120605469, 0.6324999928474426]"
            ]
          },
          "metadata": {},
          "execution_count": 88
        }
      ]
    },
    {
      "cell_type": "code",
      "source": [],
      "metadata": {
        "id": "bWI8ouxfWaST"
      },
      "execution_count": 88,
      "outputs": []
    },
    {
      "cell_type": "code",
      "source": [
        "y_pred[:5]"
      ],
      "metadata": {
        "colab": {
          "base_uri": "https://localhost:8080/"
        },
        "id": "ZVOwgQIDVfMc",
        "outputId": "cf9e2920-efe1-40c8-8657-9b5fe66dd7a8"
      },
      "execution_count": 84,
      "outputs": [
        {
          "output_type": "execute_result",
          "data": {
            "text/plain": [
              "array([[7.42506841e-03, 6.50078291e-04, 2.75987363e-03, 2.69067734e-01,\n",
              "        1.62674391e-04, 5.83649613e-02, 1.47322966e-02, 1.26156595e-03,\n",
              "        6.44034028e-01, 1.54175365e-03],\n",
              "       [9.46098845e-03, 8.31198134e-03, 4.37752487e-06, 1.67786875e-05,\n",
              "        1.33186944e-07, 5.76066483e-08, 6.25274083e-07, 1.09302105e-08,\n",
              "        9.82086778e-01, 1.18159092e-04],\n",
              "       [4.21919703e-01, 1.86996803e-01, 6.42370386e-03, 1.55744115e-02,\n",
              "        4.45942953e-03, 2.66753393e-03, 1.66192895e-03, 3.68629419e-03,\n",
              "        2.90747523e-01, 6.58626184e-02],\n",
              "       [6.90038383e-01, 2.69330782e-03, 1.74377533e-03, 7.40406523e-03,\n",
              "        2.09338572e-02, 4.81634820e-03, 1.03853305e-03, 1.34220102e-03,\n",
              "        2.59617060e-01, 1.03724087e-02],\n",
              "       [8.89517196e-06, 6.67726408e-06, 1.42337289e-02, 1.32322162e-02,\n",
              "        9.45240140e-01, 9.10335872e-03, 1.70435794e-02, 1.11503387e-03,\n",
              "        1.19031228e-07, 1.60721975e-05]], dtype=float32)"
            ]
          },
          "metadata": {},
          "execution_count": 84
        }
      ]
    },
    {
      "cell_type": "code",
      "source": [
        "y_classes = [np.argmax(element) for element in y_pred]\n",
        "print(y_classes[:5])"
      ],
      "metadata": {
        "colab": {
          "base_uri": "https://localhost:8080/"
        },
        "id": "AOs9nncJVPZ7",
        "outputId": "18ba78c8-0a86-4d56-e155-5c5113c0e379"
      },
      "execution_count": 89,
      "outputs": [
        {
          "output_type": "stream",
          "name": "stdout",
          "text": [
            "[np.int64(8), np.int64(8), np.int64(0), np.int64(0), np.int64(4)]\n"
          ]
        }
      ]
    },
    {
      "cell_type": "code",
      "source": [
        "classes[y_classes[3]]\n"
      ],
      "metadata": {
        "colab": {
          "base_uri": "https://localhost:8080/",
          "height": 36
        },
        "id": "r_LXdeGQVuXo",
        "outputId": "724d5e1e-3a96-47db-99ac-9f4db9e18fec"
      },
      "execution_count": 90,
      "outputs": [
        {
          "output_type": "execute_result",
          "data": {
            "text/plain": [
              "'airplane'"
            ],
            "application/vnd.google.colaboratory.intrinsic+json": {
              "type": "string"
            }
          },
          "metadata": {},
          "execution_count": 90
        }
      ]
    },
    {
      "cell_type": "code",
      "source": [
        "\n",
        "plot_samp(X_test, y_test,3)\n"
      ],
      "metadata": {
        "colab": {
          "base_uri": "https://localhost:8080/",
          "height": 237
        },
        "id": "JXavy3RqVTG0",
        "outputId": "5fa980a4-bb14-4753-cc8c-3f38870dc6d3"
      },
      "execution_count": 94,
      "outputs": [
        {
          "output_type": "display_data",
          "data": {
            "text/plain": [
              "<Figure size 1500x200 with 1 Axes>"
            ],
            "image/png": "[encoded data removed]"
          },
          "metadata": {}
        }
      ]
    },
    {
      "cell_type": "code",
      "source": [
        "plt.imshow(X_test[3])"
      ],
      "metadata": {
        "colab": {
          "base_uri": "https://localhost:8080/",
          "height": 447
        },
        "id": "Agfv4JK6iWTg",
        "outputId": "16a9efd2-f172-467c-9d21-f8aef9fcacf0"
      },
      "execution_count": 122,
      "outputs": [
        {
          "output_type": "execute_result",
          "data": {
            "text/plain": [
              "<matplotlib.image.AxesImage at 0x7ae02b9fe710>"
            ]
          },
          "metadata": {},
          "execution_count": 122
        },
        {
          "output_type": "display_data",
          "data": {
            "text/plain": [
              "<Figure size 640x480 with 1 Axes>"
            ],
            "image/png": "[encoded data removed]"
          },
          "metadata": {}
        }
      ]
    },
    {
      "cell_type": "code",
      "source": [
        "#data_augmentation"
      ],
      "metadata": {
        "id": "Pt6vGBupiCqX"
      },
      "execution_count": null,
      "outputs": []
    },
    {
      "cell_type": "code",
      "source": [
        "X_train, X_test = X_train / 255.0, X_test / 255.0\n",
        "\n",
        "# image dimensions based on the dataset\n",
        "img_height = 32\n",
        "img_width = 32\n",
        "img_channels = 3\n"
      ],
      "metadata": {
        "id": "qQEdShbxGL0z"
      },
      "execution_count": 114,
      "outputs": []
    },
    {
      "cell_type": "code",
      "source": [
        "data_augmentation = keras.Sequential(\n",
        "  [\n",
        "    layers.RandomFlip(\"horizontal\",\n",
        "                      input_shape=(img_height,\n",
        "                                   img_width,\n",
        "                                   img_channels)),\n",
        "    layers.RandomRotation(0.1),\n",
        "    layers.RandomZoom(0.1),\n",
        "\n",
        "  ]\n",
        ")\n"
      ],
      "metadata": {
        "id": "kfivw8Q2GFWw"
      },
      "execution_count": 117,
      "outputs": []
    },
    {
      "cell_type": "code",
      "source": [
        "cnn2 = models.Sequential([\n",
        "    data_augmentation, # Input shape is now (32, 32, 3)\n",
        "    layers.Conv2D(32, (3,3), activation='relu', padding='same'), # Added padding='same' to maintain dimensions initially\n",
        "    layers.MaxPooling2D((2,2)), # Output: 16x16x32\n",
        "    layers.Conv2D(64, (3,3), activation='relu', padding='same'), # Increased filters, padding='same'\n",
        "    layers.MaxPooling2D((2,2)), # Output: 8x8x64\n",
        "    layers.Conv2D(128, (3,3), activation='relu', padding='same'), # Added another conv layer, padding='same'\n",
        "    layers.MaxPooling2D((2,2)), # Output: 4x4x128\n",
        "    layers.Flatten(), # Output: 4 * 4 * 128 = 2048\n",
        "    layers.Dense(128, activation='relu'), # Adjusted Dense layer units\n",
        "    layers.Dropout(0.5),\n",
        "    layers.Dense(10, activation='softmax') # 10 classes for CIFAR-10\n",
        "])\n"
      ],
      "metadata": {
        "id": "l-2QgklEHL0r"
      },
      "execution_count": 118,
      "outputs": []
    },
    {
      "cell_type": "code",
      "source": [
        "cnn2.compile(optimizer='adam',\n",
        "              loss='sparse_categorical_crossentropy',\n",
        "              metrics=['accuracy'])"
      ],
      "metadata": {
        "id": "HBl-B5jUapiM"
      },
      "execution_count": 119,
      "outputs": []
    },
    {
      "cell_type": "code",
      "source": [
        "cnn2.fit(X_train,y_train,epochs=10)"
      ],
      "metadata": {
        "colab": {
          "base_uri": "https://localhost:8080/"
        },
        "id": "Kpo5CEs7assq",
        "outputId": "37575fae-8dce-490a-dc16-b652d84d7219"
      },
      "execution_count": 120,
      "outputs": [
        {
          "output_type": "stream",
          "name": "stdout",
          "text": [
            "Epoch 1/10\n",
            "\u001b[1m1563/1563\u001b[0m \u001b[32m━━━━━━━━━━━━━━━━━━━━\u001b[0m\u001b[37m\u001b[0m \u001b[1m144s\u001b[0m 90ms/step - accuracy: 0.2740 - loss: 1.9600\n",
            "Epoch 2/10\n",
            "\u001b[1m1563/1563\u001b[0m \u001b[32m━━━━━━━━━━━━━━━━━━━━\u001b[0m\u001b[37m\u001b[0m \u001b[1m139s\u001b[0m 89ms/step - accuracy: 0.4623 - loss: 1.4975\n",
            "Epoch 3/10\n",
            "\u001b[1m1563/1563\u001b[0m \u001b[32m━━━━━━━━━━━━━━━━━━━━\u001b[0m\u001b[37m\u001b[0m \u001b[1m139s\u001b[0m 89ms/step - accuracy: 0.5193 - loss: 1.3581\n",
            "Epoch 4/10\n",
            "\u001b[1m1563/1563\u001b[0m \u001b[32m━━━━━━━━━━━━━━━━━━━━\u001b[0m\u001b[37m\u001b[0m \u001b[1m141s\u001b[0m 88ms/step - accuracy: 0.5479 - loss: 1.2736\n",
            "Epoch 5/10\n",
            "\u001b[1m1563/1563\u001b[0m \u001b[32m━━━━━━━━━━━━━━━━━━━━\u001b[0m\u001b[37m\u001b[0m \u001b[1m140s\u001b[0m 87ms/step - accuracy: 0.5770 - loss: 1.2063\n",
            "Epoch 6/10\n",
            "\u001b[1m1563/1563\u001b[0m \u001b[32m━━━━━━━━━━━━━━━━━━━━\u001b[0m\u001b[37m\u001b[0m \u001b[1m142s\u001b[0m 86ms/step - accuracy: 0.6018 - loss: 1.1486\n",
            "Epoch 7/10\n",
            "\u001b[1m1563/1563\u001b[0m \u001b[32m━━━━━━━━━━━━━━━━━━━━\u001b[0m\u001b[37m\u001b[0m \u001b[1m138s\u001b[0m 88ms/step - accuracy: 0.6098 - loss: 1.1190\n",
            "Epoch 8/10\n",
            "\u001b[1m1563/1563\u001b[0m \u001b[32m━━━━━━━━━━━━━━━━━━━━\u001b[0m\u001b[37m\u001b[0m \u001b[1m138s\u001b[0m 86ms/step - accuracy: 0.6263 - loss: 1.0811\n",
            "Epoch 9/10\n",
            "\u001b[1m1563/1563\u001b[0m \u001b[32m━━━━━━━━━━━━━━━━━━━━\u001b[0m\u001b[37m\u001b[0m \u001b[1m146s\u001b[0m 88ms/step - accuracy: 0.6330 - loss: 1.0543\n",
            "Epoch 10/10\n",
            "\u001b[1m1563/1563\u001b[0m \u001b[32m━━━━━━━━━━━━━━━━━━━━\u001b[0m\u001b[37m\u001b[0m \u001b[1m141s\u001b[0m 87ms/step - accuracy: 0.6400 - loss: 1.0442\n"
          ]
        },
        {
          "output_type": "execute_result",
          "data": {
            "text/plain": [
              "<keras.src.callbacks.history.History at 0x7ae02cf1b7d0>"
            ]
          },
          "metadata": {},
          "execution_count": 120
        }
      ]
    },
    {
      "cell_type": "code",
      "source": [
        "cnn2.evaluate(X_test,y_test)"
      ],
      "metadata": {
        "colab": {
          "base_uri": "https://localhost:8080/"
        },
        "id": "KtAvZvT-h5dW",
        "outputId": "5b213416-71a7-4e14-cefd-5b6578cace46"
      },
      "execution_count": 121,
      "outputs": [
        {
          "output_type": "stream",
          "name": "stdout",
          "text": [
            "\u001b[1m313/313\u001b[0m \u001b[32m━━━━━━━━━━━━━━━━━━━━\u001b[0m\u001b[37m\u001b[0m \u001b[1m9s\u001b[0m 26ms/step - accuracy: 0.7007 - loss: 0.8663\n"
          ]
        },
        {
          "output_type": "execute_result",
          "data": {
            "text/plain": [
              "[0.8653569221496582, 0.7003999948501587]"
            ]
          },
          "metadata": {},
          "execution_count": 121
        }
      ]
    },
    {
      "cell_type": "markdown",
      "source": [
        "fit model"
      ],
      "metadata": {
        "id": "oe7N8kArCDVG"
      }
    }
  ]
}